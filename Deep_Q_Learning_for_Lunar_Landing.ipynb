{
  "cells": [
    {
      "cell_type": "markdown",
      "metadata": {
        "id": "LbZcI9ZXHl3a"
      },
      "source": [
        "# Deep Q-Learning for Lunar Landing"
      ]
    },
    {
      "cell_type": "markdown",
      "metadata": {
        "id": "E8yPRjteXgPb"
      },
      "source": [
        "## Part 0 - Installing the required packages and importing the libraries"
      ]
    },
    {
      "cell_type": "markdown",
      "metadata": {
        "id": "slEm5teGWjWU"
      },
      "source": [
        "### Installing Gymnasium"
      ]
    },
    {
      "cell_type": "code",
      "execution_count": 1,
      "metadata": {
        "id": "dbnq3XpoKa_7",
        "colab": {
          "base_uri": "https://localhost:8080/"
        },
        "outputId": "073221dd-d20d-4364-c377-4d05dde017b9"
      },
      "outputs": [
        {
          "output_type": "stream",
          "name": "stdout",
          "text": [
            "Collecting gymnasium\n",
            "  Downloading gymnasium-0.29.1-py3-none-any.whl (953 kB)\n",
            "\u001b[?25l     \u001b[90m━━━━━━━━━━━━━━━━━━━━━━━━━━━━━━━━━━━━━━━━\u001b[0m \u001b[32m0.0/953.9 kB\u001b[0m \u001b[31m?\u001b[0m eta \u001b[36m-:--:--\u001b[0m\r\u001b[2K     \u001b[91m━━━\u001b[0m\u001b[90m╺\u001b[0m\u001b[90m━━━━━━━━━━━━━━━━━━━━━━━━━━━━━━━━━━━━\u001b[0m \u001b[32m71.7/953.9 kB\u001b[0m \u001b[31m1.9 MB/s\u001b[0m eta \u001b[36m0:00:01\u001b[0m\r\u001b[2K     \u001b[91m━━━━━━━━━━━━━━━━━━━━━━\u001b[0m\u001b[90m╺\u001b[0m\u001b[90m━━━━━━━━━━━━━━━━━\u001b[0m \u001b[32m532.5/953.9 kB\u001b[0m \u001b[31m7.7 MB/s\u001b[0m eta \u001b[36m0:00:01\u001b[0m\r\u001b[2K     \u001b[90m━━━━━━━━━━━━━━━━━━━━━━━━━━━━━━━━━━━━━━━━\u001b[0m \u001b[32m953.9/953.9 kB\u001b[0m \u001b[31m10.7 MB/s\u001b[0m eta \u001b[36m0:00:00\u001b[0m\n",
            "\u001b[?25hRequirement already satisfied: numpy>=1.21.0 in /usr/local/lib/python3.10/dist-packages (from gymnasium) (1.23.5)\n",
            "Requirement already satisfied: cloudpickle>=1.2.0 in /usr/local/lib/python3.10/dist-packages (from gymnasium) (2.2.1)\n",
            "Requirement already satisfied: typing-extensions>=4.3.0 in /usr/local/lib/python3.10/dist-packages (from gymnasium) (4.5.0)\n",
            "Collecting farama-notifications>=0.0.1 (from gymnasium)\n",
            "  Downloading Farama_Notifications-0.0.4-py3-none-any.whl (2.5 kB)\n",
            "Installing collected packages: farama-notifications, gymnasium\n",
            "Successfully installed farama-notifications-0.0.4 gymnasium-0.29.1\n",
            "Requirement already satisfied: gymnasium[accept-rom-license,atari] in /usr/local/lib/python3.10/dist-packages (0.29.1)\n",
            "Requirement already satisfied: numpy>=1.21.0 in /usr/local/lib/python3.10/dist-packages (from gymnasium[accept-rom-license,atari]) (1.23.5)\n",
            "Requirement already satisfied: cloudpickle>=1.2.0 in /usr/local/lib/python3.10/dist-packages (from gymnasium[accept-rom-license,atari]) (2.2.1)\n",
            "Requirement already satisfied: typing-extensions>=4.3.0 in /usr/local/lib/python3.10/dist-packages (from gymnasium[accept-rom-license,atari]) (4.5.0)\n",
            "Requirement already satisfied: farama-notifications>=0.0.1 in /usr/local/lib/python3.10/dist-packages (from gymnasium[accept-rom-license,atari]) (0.0.4)\n",
            "Collecting autorom[accept-rom-license]~=0.4.2 (from gymnasium[accept-rom-license,atari])\n",
            "  Downloading AutoROM-0.4.2-py3-none-any.whl (16 kB)\n",
            "Collecting shimmy[atari]<1.0,>=0.1.0 (from gymnasium[accept-rom-license,atari])\n",
            "  Downloading Shimmy-0.2.1-py3-none-any.whl (25 kB)\n",
            "Requirement already satisfied: click in /usr/local/lib/python3.10/dist-packages (from autorom[accept-rom-license]~=0.4.2->gymnasium[accept-rom-license,atari]) (8.1.7)\n",
            "Requirement already satisfied: requests in /usr/local/lib/python3.10/dist-packages (from autorom[accept-rom-license]~=0.4.2->gymnasium[accept-rom-license,atari]) (2.31.0)\n",
            "Requirement already satisfied: tqdm in /usr/local/lib/python3.10/dist-packages (from autorom[accept-rom-license]~=0.4.2->gymnasium[accept-rom-license,atari]) (4.66.1)\n",
            "Collecting AutoROM.accept-rom-license (from autorom[accept-rom-license]~=0.4.2->gymnasium[accept-rom-license,atari])\n",
            "  Downloading AutoROM.accept-rom-license-0.6.1.tar.gz (434 kB)\n",
            "\u001b[2K     \u001b[90m━━━━━━━━━━━━━━━━━━━━━━━━━━━━━━━━━━━━━━━━\u001b[0m \u001b[32m434.7/434.7 kB\u001b[0m \u001b[31m13.5 MB/s\u001b[0m eta \u001b[36m0:00:00\u001b[0m\n",
            "\u001b[?25h  Installing build dependencies ... \u001b[?25l\u001b[?25hdone\n",
            "  Getting requirements to build wheel ... \u001b[?25l\u001b[?25hdone\n",
            "  Preparing metadata (pyproject.toml) ... \u001b[?25l\u001b[?25hdone\n",
            "Collecting ale-py~=0.8.1 (from shimmy[atari]<1.0,>=0.1.0->gymnasium[accept-rom-license,atari])\n",
            "  Downloading ale_py-0.8.1-cp310-cp310-manylinux_2_17_x86_64.manylinux2014_x86_64.whl (1.7 MB)\n",
            "\u001b[2K     \u001b[90m━━━━━━━━━━━━━━━━━━━━━━━━━━━━━━━━━━━━━━━━\u001b[0m \u001b[32m1.7/1.7 MB\u001b[0m \u001b[31m40.9 MB/s\u001b[0m eta \u001b[36m0:00:00\u001b[0m\n",
            "\u001b[?25hRequirement already satisfied: importlib-resources in /usr/local/lib/python3.10/dist-packages (from ale-py~=0.8.1->shimmy[atari]<1.0,>=0.1.0->gymnasium[accept-rom-license,atari]) (6.1.1)\n",
            "Requirement already satisfied: charset-normalizer<4,>=2 in /usr/local/lib/python3.10/dist-packages (from requests->autorom[accept-rom-license]~=0.4.2->gymnasium[accept-rom-license,atari]) (3.3.2)\n",
            "Requirement already satisfied: idna<4,>=2.5 in /usr/local/lib/python3.10/dist-packages (from requests->autorom[accept-rom-license]~=0.4.2->gymnasium[accept-rom-license,atari]) (3.4)\n",
            "Requirement already satisfied: urllib3<3,>=1.21.1 in /usr/local/lib/python3.10/dist-packages (from requests->autorom[accept-rom-license]~=0.4.2->gymnasium[accept-rom-license,atari]) (2.0.7)\n",
            "Requirement already satisfied: certifi>=2017.4.17 in /usr/local/lib/python3.10/dist-packages (from requests->autorom[accept-rom-license]~=0.4.2->gymnasium[accept-rom-license,atari]) (2023.7.22)\n",
            "Building wheels for collected packages: AutoROM.accept-rom-license\n",
            "  Building wheel for AutoROM.accept-rom-license (pyproject.toml) ... \u001b[?25l\u001b[?25hdone\n",
            "  Created wheel for AutoROM.accept-rom-license: filename=AutoROM.accept_rom_license-0.6.1-py3-none-any.whl size=446660 sha256=e1f414f295a872e802ca8d601ddb0e5fbf305e47e253156f7fc59b3c6ff45a0b\n",
            "  Stored in directory: /root/.cache/pip/wheels/6b/1b/ef/a43ff1a2f1736d5711faa1ba4c1f61be1131b8899e6a057811\n",
            "Successfully built AutoROM.accept-rom-license\n",
            "Installing collected packages: ale-py, shimmy, AutoROM.accept-rom-license, autorom\n",
            "Successfully installed AutoROM.accept-rom-license-0.6.1 ale-py-0.8.1 autorom-0.4.2 shimmy-0.2.1\n",
            "Reading package lists... Done\n",
            "Building dependency tree... Done\n",
            "Reading state information... Done\n",
            "The following additional packages will be installed:\n",
            "  swig4.0\n",
            "Suggested packages:\n",
            "  swig-doc swig-examples swig4.0-examples swig4.0-doc\n",
            "The following NEW packages will be installed:\n",
            "  swig swig4.0\n",
            "0 upgraded, 2 newly installed, 0 to remove and 8 not upgraded.\n",
            "Need to get 1,116 kB of archives.\n",
            "After this operation, 5,542 kB of additional disk space will be used.\n",
            "Get:1 http://archive.ubuntu.com/ubuntu jammy/universe amd64 swig4.0 amd64 4.0.2-1ubuntu1 [1,110 kB]\n",
            "Get:2 http://archive.ubuntu.com/ubuntu jammy/universe amd64 swig all 4.0.2-1ubuntu1 [5,632 B]\n",
            "Fetched 1,116 kB in 1s (1,349 kB/s)\n",
            "Selecting previously unselected package swig4.0.\n",
            "(Reading database ... 120880 files and directories currently installed.)\n",
            "Preparing to unpack .../swig4.0_4.0.2-1ubuntu1_amd64.deb ...\n",
            "Unpacking swig4.0 (4.0.2-1ubuntu1) ...\n",
            "Selecting previously unselected package swig.\n",
            "Preparing to unpack .../swig_4.0.2-1ubuntu1_all.deb ...\n",
            "Unpacking swig (4.0.2-1ubuntu1) ...\n",
            "Setting up swig4.0 (4.0.2-1ubuntu1) ...\n",
            "Setting up swig (4.0.2-1ubuntu1) ...\n",
            "Processing triggers for man-db (2.10.2-1) ...\n",
            "Requirement already satisfied: gymnasium[box2d] in /usr/local/lib/python3.10/dist-packages (0.29.1)\n",
            "Requirement already satisfied: numpy>=1.21.0 in /usr/local/lib/python3.10/dist-packages (from gymnasium[box2d]) (1.23.5)\n",
            "Requirement already satisfied: cloudpickle>=1.2.0 in /usr/local/lib/python3.10/dist-packages (from gymnasium[box2d]) (2.2.1)\n",
            "Requirement already satisfied: typing-extensions>=4.3.0 in /usr/local/lib/python3.10/dist-packages (from gymnasium[box2d]) (4.5.0)\n",
            "Requirement already satisfied: farama-notifications>=0.0.1 in /usr/local/lib/python3.10/dist-packages (from gymnasium[box2d]) (0.0.4)\n",
            "Collecting box2d-py==2.3.5 (from gymnasium[box2d])\n",
            "  Downloading box2d-py-2.3.5.tar.gz (374 kB)\n",
            "\u001b[2K     \u001b[90m━━━━━━━━━━━━━━━━━━━━━━━━━━━━━━━━━━━━━━━━\u001b[0m \u001b[32m374.4/374.4 kB\u001b[0m \u001b[31m7.4 MB/s\u001b[0m eta \u001b[36m0:00:00\u001b[0m\n",
            "\u001b[?25h  Preparing metadata (setup.py) ... \u001b[?25l\u001b[?25hdone\n",
            "Requirement already satisfied: pygame>=2.1.3 in /usr/local/lib/python3.10/dist-packages (from gymnasium[box2d]) (2.5.2)\n",
            "Collecting swig==4.* (from gymnasium[box2d])\n",
            "  Downloading swig-4.1.1.post0-py2.py3-none-manylinux_2_5_x86_64.manylinux1_x86_64.whl (1.8 MB)\n",
            "\u001b[2K     \u001b[90m━━━━━━━━━━━━━━━━━━━━━━━━━━━━━━━━━━━━━━━━\u001b[0m \u001b[32m1.8/1.8 MB\u001b[0m \u001b[31m77.2 MB/s\u001b[0m eta \u001b[36m0:00:00\u001b[0m\n",
            "\u001b[?25hBuilding wheels for collected packages: box2d-py\n",
            "  Building wheel for box2d-py (setup.py) ... \u001b[?25l\u001b[?25hdone\n",
            "  Created wheel for box2d-py: filename=box2d_py-2.3.5-cp310-cp310-linux_x86_64.whl size=2349115 sha256=e612a6948791381ba5a6b3f1d10680fd4d887a480464feba8e6aef659d938351\n",
            "  Stored in directory: /root/.cache/pip/wheels/db/8f/6a/eaaadf056fba10a98d986f6dce954e6201ba3126926fc5ad9e\n",
            "Successfully built box2d-py\n",
            "Installing collected packages: swig, box2d-py\n",
            "Successfully installed box2d-py-2.3.5 swig-4.1.1.post0\n"
          ]
        }
      ],
      "source": [
        "!pip install gymnasium\n",
        "!pip install \"gymnasium[atari, accept-rom-license]\"\n",
        "!apt-get install -y swig\n",
        "!pip install gymnasium[box2d]"
      ]
    },
    {
      "cell_type": "markdown",
      "metadata": {
        "id": "brqiMN3UW9T9"
      },
      "source": [
        "### Importing the libraries"
      ]
    },
    {
      "cell_type": "code",
      "execution_count": 2,
      "metadata": {
        "id": "mZaKXP_aMl9O"
      },
      "outputs": [],
      "source": [
        "import os\n",
        "import random\n",
        "import numpy as np\n",
        "import torch\n",
        "import torch.nn as nn\n",
        "import torch.optim as optim\n",
        "import torch.nn.functional as F\n",
        "import torch.autograd as autograd\n",
        "from torch.autograd import Variable\n",
        "from collections import deque, namedtuple"
      ]
    },
    {
      "cell_type": "markdown",
      "metadata": {
        "id": "EzlDKXvkXzGI"
      },
      "source": [
        "## Part 1 - Building the AI"
      ]
    },
    {
      "cell_type": "markdown",
      "metadata": {
        "id": "UtG6Zc83YYy3"
      },
      "source": [
        "### Creating the architecture of the Neural Network"
      ]
    },
    {
      "cell_type": "code",
      "source": [
        "class Network(nn.Module):\n",
        "\n",
        "  def __init__(self, state_size, action_size, seed = 42):\n",
        "    super(Network, self).__init__()\n",
        "    self.seed = torch.manual_seed(seed)\n",
        "    self.fc1 = nn.Linear(state_size, 64)\n",
        "    self.fc2 = nn.Linear(64, 64)\n",
        "    self.fc3 = nn.Linear(64, action_size)\n",
        "\n",
        "  def forward(self, state):\n",
        "    x = self.fc1(state)\n",
        "    x = F.relu(x)\n",
        "    x = self.fc2(x)\n",
        "    x = F.relu(x)\n",
        "    return self.fc3(x)"
      ],
      "metadata": {
        "id": "h9oUxasLEJx9"
      },
      "execution_count": 3,
      "outputs": []
    },
    {
      "cell_type": "markdown",
      "metadata": {
        "id": "UxVrBnFWZKb1"
      },
      "source": [
        "## Part 2 - Training the AI"
      ]
    },
    {
      "cell_type": "markdown",
      "metadata": {
        "id": "T364fz9qZb2j"
      },
      "source": [
        "### Setting up the environment"
      ]
    },
    {
      "cell_type": "code",
      "source": [
        "import gymnasium as gym\n",
        "env = gym.make('LunarLander-v2')\n",
        "state_shape = env.observation_space.shape\n",
        "state_size = env.observation_space.shape[0]\n",
        "number_actions = env.action_space.n\n",
        "print('State shape: ', state_shape)\n",
        "print('State size: ', state_size)\n",
        "print('Number of actions: ', number_actions)"
      ],
      "metadata": {
        "colab": {
          "base_uri": "https://localhost:8080/"
        },
        "id": "NUWiCFWySXIh",
        "outputId": "0d2bdbc7-2fdf-4687-949a-ff1ceeb380c1"
      },
      "execution_count": 4,
      "outputs": [
        {
          "output_type": "stream",
          "name": "stdout",
          "text": [
            "State shape:  (8,)\n",
            "State size:  8\n",
            "Number of actions:  4\n"
          ]
        }
      ]
    },
    {
      "cell_type": "markdown",
      "metadata": {
        "id": "c_dZmOIvZgj-"
      },
      "source": [
        "### Initializing the hyperparameters"
      ]
    },
    {
      "cell_type": "code",
      "source": [
        "learning_rate = 5e-4\n",
        "minibatch_size = 100\n",
        "discount_factor = 0.99\n",
        "replay_buffer_size = int(1e5)\n",
        "interpolation_parameter = 1e-3"
      ],
      "metadata": {
        "id": "bNKnUzj1Oqz8"
      },
      "execution_count": 5,
      "outputs": []
    },
    {
      "cell_type": "markdown",
      "metadata": {
        "id": "8hD_Vs-bYnip"
      },
      "source": [
        "### Implementing Experience Replay"
      ]
    },
    {
      "cell_type": "code",
      "source": [
        "class ReplayMemory(object):\n",
        "\n",
        "  def __init__(self, capacity):\n",
        "    self.device = torch.device(\"cuda:0\" if torch.cuda.is_available() else \"cpu\")\n",
        "    self.capacity = capacity\n",
        "    self.memory = []\n",
        "\n",
        "  def push(self, event):\n",
        "    self.memory.append(event)\n",
        "    if len(self.memory) > self.capacity:\n",
        "      del self.memory[0]\n",
        "\n",
        "  def sample(self, batch_size):\n",
        "    experiences = random.sample(self.memory, k = batch_size)\n",
        "    states = torch.from_numpy(np.vstack([e[0] for e in experiences if e is not None])).float().to(self.device)\n",
        "    actions = torch.from_numpy(np.vstack([e[1] for e in experiences if e is not None])).long().to(self.device)\n",
        "    rewards = torch.from_numpy(np.vstack([e[2] for e in experiences if e is not None])).float().to(self.device)\n",
        "    next_states = torch.from_numpy(np.vstack([e[3] for e in experiences if e is not None])).float().to(self.device)\n",
        "    dones = torch.from_numpy(np.vstack([e[4] for e in experiences if e is not None]).astype(np.uint8)).float().to(self.device)\n",
        "    return states, next_states, actions, rewards, dones"
      ],
      "metadata": {
        "id": "QaEChoj_uRoe"
      },
      "execution_count": 6,
      "outputs": []
    },
    {
      "cell_type": "markdown",
      "metadata": {
        "id": "JmEkbFbUY6Jt"
      },
      "source": [
        "### Implementing the DQN class"
      ]
    },
    {
      "cell_type": "code",
      "source": [
        "class Agent():\n",
        "\n",
        "  def __init__(self, state_size, action_size):\n",
        "    self.device = torch.device(\"cuda:0\" if torch.cuda.is_available() else \"cpu\")\n",
        "    self.state_size = state_size\n",
        "    self.action_size = action_size\n",
        "    self.local_qnetwork = Network(state_size, action_size).to(self.device)\n",
        "    self.target_qnetwork = Network(state_size, action_size).to(self.device)\n",
        "    self.optimizer = optim.Adam(self.local_qnetwork.parameters(), lr = learning_rate)\n",
        "    self.memory = ReplayMemory(replay_buffer_size)\n",
        "    self.t_step = 0\n",
        "\n",
        "  def step(self, state, action, reward, next_state, done):\n",
        "    self.memory.push((state, action, reward, next_state, done))\n",
        "    self.t_step = (self.t_step + 1) % 4\n",
        "    if self.t_step == 0:\n",
        "      if len(self.memory.memory) > minibatch_size:\n",
        "        experiences = self.memory.sample(100)\n",
        "        self.learn(experiences, discount_factor)\n",
        "\n",
        "  def act(self, state, epsilon = 0.):\n",
        "    state = torch.from_numpy(state).float().unsqueeze(0).to(self.device)\n",
        "    self.local_qnetwork.eval()\n",
        "    with torch.no_grad():\n",
        "      action_values = self.local_qnetwork(state)\n",
        "    self.local_qnetwork.train()\n",
        "    if random.random() > epsilon:\n",
        "      return np.argmax(action_values.cpu().data.numpy())\n",
        "    else:\n",
        "      return random.choice(np.arange(self.action_size))\n",
        "\n",
        "  def learn(self, experiences, discount_factor):\n",
        "    states, next_states, actions, rewards, dones = experiences\n",
        "    next_q_targets = self.target_qnetwork(next_states).detach().max(1)[0].unsqueeze(1)\n",
        "    q_targets = rewards + discount_factor * next_q_targets * (1 - dones)\n",
        "    q_expected = self.local_qnetwork(states).gather(1, actions)\n",
        "    loss = F.mse_loss(q_expected, q_targets)\n",
        "    self.optimizer.zero_grad()\n",
        "    loss.backward()\n",
        "    self.optimizer.step()\n",
        "    self.soft_update(self.local_qnetwork, self.target_qnetwork, interpolation_parameter)\n",
        "\n",
        "  def soft_update(self, local_model, target_model, interpolation_parameter):\n",
        "    for target_param, local_param in zip(target_model.parameters(), local_model.parameters()):\n",
        "      target_param.data.copy_(interpolation_parameter * local_param.data + (1.0 - interpolation_parameter) * target_param.data)"
      ],
      "metadata": {
        "id": "iokmjTKJ9E3U"
      },
      "execution_count": 7,
      "outputs": []
    },
    {
      "cell_type": "markdown",
      "metadata": {
        "id": "o1tZElccZmf6"
      },
      "source": [
        "### Initializing the DQN agent"
      ]
    },
    {
      "cell_type": "code",
      "source": [
        "agent = Agent(state_size, number_actions)"
      ],
      "metadata": {
        "id": "cGbpJJvLjmIw"
      },
      "execution_count": 8,
      "outputs": []
    },
    {
      "cell_type": "markdown",
      "metadata": {
        "id": "E8v0PtUfaVQp"
      },
      "source": [
        "### Training the DQN agent"
      ]
    },
    {
      "cell_type": "code",
      "source": [
        "number_episodes = 2000\n",
        "maximum_number_timesteps_per_episode = 1000\n",
        "epsilon_starting_value  = 1.0\n",
        "epsilon_ending_value  = 0.01\n",
        "epsilon_decay_value  = 0.995\n",
        "epsilon = epsilon_starting_value\n",
        "scores_on_100_episodes = deque(maxlen = 100)\n",
        "\n",
        "for episode in range(1, number_episodes + 1):\n",
        "  state, _ = env.reset()\n",
        "  score = 0\n",
        "  for t in range(maximum_number_timesteps_per_episode):\n",
        "    action = agent.act(state, epsilon)\n",
        "    next_state, reward, done, _, _ = env.step(action)\n",
        "    agent.step(state, action, reward, next_state, done)\n",
        "    state = next_state\n",
        "    score += reward\n",
        "    if done:\n",
        "      break\n",
        "  scores_on_100_episodes.append(score)\n",
        "  epsilon = max(epsilon_ending_value, epsilon_decay_value * epsilon)\n",
        "  print('\\rEpisode {}\\tAverage Score: {:.2f}'.format(episode, np.mean(scores_on_100_episodes)), end = \"\")\n",
        "  if episode % 100 == 0:\n",
        "    print('\\rEpisode {}\\tAverage Score: {:.2f}'.format(episode, np.mean(scores_on_100_episodes)))\n",
        "  if np.mean(scores_on_100_episodes) >= 200.0:\n",
        "    print('\\nEnvironment solved in {:d} episodes!\\tAverage Score: {:.2f}'.format(episode - 100, np.mean(scores_on_100_episodes)))\n",
        "    torch.save(agent.local_qnetwork.state_dict(), 'checkpoint.pth')\n",
        "    break"
      ],
      "metadata": {
        "colab": {
          "base_uri": "https://localhost:8080/"
        },
        "id": "2ybZW6Im-Bwj",
        "outputId": "a8b64967-a4e0-4389-aeb2-2b621dc15928"
      },
      "execution_count": 9,
      "outputs": [
        {
          "output_type": "stream",
          "name": "stdout",
          "text": [
            "Episode 100\tAverage Score: -162.30\n",
            "Episode 200\tAverage Score: -88.66\n",
            "Episode 300\tAverage Score: -22.79\n",
            "Episode 400\tAverage Score: 43.02\n",
            "Episode 500\tAverage Score: 168.67\n",
            "Episode 600\tAverage Score: 168.67\n",
            "Episode 699\tAverage Score: 201.13\n",
            "Environment solved in 599 episodes!\tAverage Score: 201.13\n"
          ]
        }
      ]
    },
    {
      "cell_type": "markdown",
      "metadata": {
        "id": "O8CNwdOTcCoP"
      },
      "source": [
        "## Part 3 - Visualizing the results"
      ]
    },
    {
      "cell_type": "code",
      "execution_count": 10,
      "metadata": {
        "id": "cb9nVvU2Okhk",
        "colab": {
          "base_uri": "https://localhost:8080/",
          "height": 461
        },
        "outputId": "715ad0ad-3c6a-472d-8e9e-ba71a46bb33e"
      },
      "outputs": [
        {
          "output_type": "stream",
          "name": "stderr",
          "text": [
            "WARNING:imageio_ffmpeg:IMAGEIO FFMPEG_WRITER WARNING: input image is not divisible by macro_block_size=16, resizing from (600, 400) to (608, 400) to ensure video compatibility with most codecs and players. To prevent resizing, make your input image divisible by the macro_block_size or set the macro_block_size to 1 (risking incompatibility).\n"
          ]
        },
        {
          "output_type": "display_data",
          "data": {
            "text/plain": [
              "<IPython.core.display.HTML object>"
            ],
            "text/html": [
              "<video alt=\"test\" autoplay\n",
              "                loop controls style=\"height: 400px;\">\n",
              "                <source src=\"data:video/mp4;base64,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\" type=\"video/mp4\" />\n",
              "             </video>"
            ]
          },
          "metadata": {}
        }
      ],
      "source": [
        "import glob\n",
        "import io\n",
        "import base64\n",
        "import imageio\n",
        "from IPython.display import HTML, display\n",
        "from gym.wrappers.monitoring.video_recorder import VideoRecorder\n",
        "\n",
        "def show_video_of_model(agent, env_name):\n",
        "    env = gym.make(env_name, render_mode='rgb_array')\n",
        "    state, _ = env.reset()\n",
        "    done = False\n",
        "    frames = []\n",
        "    while not done:\n",
        "        frame = env.render()\n",
        "        frames.append(frame)\n",
        "        action = agent.act(state)\n",
        "        state, reward, done, _, _ = env.step(action.item())\n",
        "    env.close()\n",
        "    imageio.mimsave('video.mp4', frames, fps=30)\n",
        "\n",
        "show_video_of_model(agent, 'LunarLander-v2')\n",
        "\n",
        "def show_video():\n",
        "    mp4list = glob.glob('*.mp4')\n",
        "    if len(mp4list) > 0:\n",
        "        mp4 = mp4list[0]\n",
        "        video = io.open(mp4, 'r+b').read()\n",
        "        encoded = base64.b64encode(video)\n",
        "        display(HTML(data='''<video alt=\"test\" autoplay\n",
        "                loop controls style=\"height: 400px;\">\n",
        "                <source src=\"data:video/mp4;base64,{0}\" type=\"video/mp4\" />\n",
        "             </video>'''.format(encoded.decode('ascii'))))\n",
        "    else:\n",
        "        print(\"Could not find video\")\n",
        "\n",
        "show_video()"
      ]
    }
  ],
  "metadata": {
    "colab": {
      "provenance": []
    },
    "kernelspec": {
      "display_name": "Python 3",
      "name": "python3"
    },
    "language_info": {
      "name": "python"
    }
  },
  "nbformat": 4,
  "nbformat_minor": 0
}